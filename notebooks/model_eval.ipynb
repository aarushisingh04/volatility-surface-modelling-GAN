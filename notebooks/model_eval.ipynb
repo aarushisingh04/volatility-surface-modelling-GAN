{
 "cells": [
  {
   "cell_type": "code",
   "execution_count": null,
   "metadata": {
    "vscode": {
     "languageId": "plaintext"
    }
   },
   "outputs": [],
   "source": [
    "\n",
    "import torch\n",
    "from volatility_surface import Generator\n",
    "from utils import plot_results\n",
    "\n",
    "generator = Generator(input_dim=100)\n",
    "generator.load_state_dict(torch.load('path/to/saved_model.pth'))\n",
    "\n",
    "\n",
    "noise = torch.randn(1000, 100)\n",
    "generated_data = generator(noise).detach().numpy()\n",
    "\n",
    "plot_results(real_data, generated_data)\n"
   ]
  }
 ],
 "metadata": {
  "language_info": {
   "name": "python"
  }
 },
 "nbformat": 4,
 "nbformat_minor": 2
}
